{
 "cells": [
  {
   "cell_type": "markdown",
   "metadata": {},
   "source": [
    "## Importar modulo y librería"
   ]
  },
  {
   "cell_type": "code",
   "execution_count": 1,
   "metadata": {},
   "outputs": [],
   "source": [
    "import os\n",
    "import pandas as pd"
   ]
  },
  {
   "cell_type": "markdown",
   "metadata": {},
   "source": [
    "## Definir ubicación de archivos"
   ]
  },
  {
   "cell_type": "code",
   "execution_count": 2,
   "metadata": {},
   "outputs": [],
   "source": [
    "dirname = './datasets/'\n",
    "path_excel = 'titanic3.xlsx'\n",
    "path_csv = 'titanic3.csv'\n",
    "path_txt = 'Customer Churn Model.txt'\n",
    "fullpath_excel = os.path.join(dirname, path_excel)\n",
    "fullpath_csv = os.path.join(dirname, path_csv)\n",
    "fullpath_txt = os.path.join(dirname, path_txt)"
   ]
  },
  {
   "cell_type": "markdown",
   "metadata": {},
   "source": [
    "## Verificar que la ruta a los arhivos es la correcta"
   ]
  },
  {
   "cell_type": "code",
   "execution_count": 3,
   "metadata": {},
   "outputs": [
    {
     "name": "stdout",
     "output_type": "stream",
     "text": [
      "filename: ./datasets/titanic3.xlsx\n",
      " path: titanic3.xlsx\n",
      "\n",
      "filename: ./datasets/titanic3.csv\n",
      " path: titanic3.csv\n",
      "\n",
      "filename: ./datasets/Customer Churn Model.txt\n",
      " path: Customer Churn Model.txt\n"
     ]
    }
   ],
   "source": [
    "print('filename: {}\\n path: {}\\n'.format(fullpath_excel, path_excel))\n",
    "print('filename: {}\\n path: {}\\n'.format(fullpath_csv, path_csv))\n",
    "print('filename: {}\\n path: {}'.format(fullpath_txt, path_txt))"
   ]
  },
  {
   "cell_type": "markdown",
   "metadata": {},
   "source": [
    "## Leer archivo csv"
   ]
  },
  {
   "cell_type": "markdown",
   "metadata": {},
   "source": [
    "### Parametros a considerar para la función read_csv\n",
    "- __filepath_or_buffer__: str or path\n",
    "- __sep__: str, default =',' [delimitador de columnas en el archivo a leer]\n",
    "- __header__: int, list of int, [especifica que file será el header del DataFrame]\n",
    "- __names__: list, [Especifica el nombre de las columnas]\n",
    "- __dtype__: dict [Clave valor, donde la clave es la columna y el valor el tipo de dato]"
   ]
  },
  {
   "cell_type": "code",
   "execution_count": 4,
   "metadata": {},
   "outputs": [],
   "source": [
    "df_csv = pd.read_csv(fullpath_csv)"
   ]
  },
  {
   "cell_type": "markdown",
   "metadata": {},
   "source": [
    "### Parametros a considerar para la función read_excel\n",
    "- __io__: str or path\n",
    "- __sheet_name__: str, int, list, or None, default 0 [Especifica que hoja del arhivo será leída]\n",
    "- __header__: int, [especifica que file será el header del DataFrame]\n",
    "- __names__: list, [Especifica el nombre de las columnas]\n",
    "- __dtype__: dict [Clave valor, donde la clave es la columna y el valor el tipo de dato]"
   ]
  },
  {
   "cell_type": "code",
   "execution_count": 5,
   "metadata": {},
   "outputs": [],
   "source": [
    "df_excel = pd.read_excel(fullpath_excel)"
   ]
  },
  {
   "cell_type": "markdown",
   "metadata": {},
   "source": [
    "## Leer archivo de texto\n",
    "Para leer archivos de texto, pandas no cuenta con una función especifica pero se puede usar read_csv, pasando el parametro \"sep\" correspondiente al delimitador del archivo, si el delimitar son comas(,) no es necesario agregarlo."
   ]
  },
  {
   "cell_type": "code",
   "execution_count": 10,
   "metadata": {},
   "outputs": [],
   "source": [
    "df_txt = pd.read_csv(fullpath_txt)"
   ]
  }
 ],
 "metadata": {
  "kernelspec": {
   "display_name": "Python 3",
   "language": "python",
   "name": "python3"
  },
  "language_info": {
   "codemirror_mode": {
    "name": "ipython",
    "version": 3
   },
   "file_extension": ".py",
   "mimetype": "text/x-python",
   "name": "python",
   "nbconvert_exporter": "python",
   "pygments_lexer": "ipython3",
   "version": "3.7.1"
  }
 },
 "nbformat": 4,
 "nbformat_minor": 2
}
